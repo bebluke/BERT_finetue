{
 "cells": [
  {
   "cell_type": "code",
   "execution_count": 1,
   "metadata": {},
   "outputs": [
    {
     "name": "stderr",
     "output_type": "stream",
     "text": [
      "Device set to use cuda:0\n"
     ]
    },
    {
     "name": "stdout",
     "output_type": "stream",
     "text": [
      "==================================================\n",
      "sentence:我每天都能跟她一起上學，我好開心！\n",
      "label:開心語調\n",
      "score:0.95\n",
      "==================================================\n",
      "sentence:最好的朋友要離開臺灣了，以後可能不容易再見面...\n",
      "label:悲傷語調\n",
      "score:0.81\n",
      "==================================================\n",
      "sentence:我覺得我快不行了\n",
      "label:悲傷語調\n",
      "score:0.92\n",
      "==================================================\n",
      "sentence:剛剛收到研究所錄取的通知書！\n",
      "label:開心語調\n",
      "score:0.92\n",
      "==================================================\n",
      "sentence:今年的冬天好像比較晚來。\n",
      "label:平淡語氣\n",
      "score:0.94\n",
      "==================================================\n",
      "sentence:動物園的wifi在長頸鹿頭上\n",
      "label:平淡語氣\n",
      "score:0.90\n",
      "==================================================\n",
      "sentence:有人在背後說我胖！幹!\n",
      "label:憤怒語調\n",
      "score:0.91\n",
      "==================================================\n",
      "sentence:我的狗終於要讓我養我媽了\n",
      "label:開心語調\n",
      "score:0.48\n",
      "==================================================\n",
      "sentence:士林夜市東西好多好豐富，可是好難吃\n",
      "label:厭惡語調\n",
      "score:0.38\n",
      "==================================================\n",
      "sentence:如果你懂，我也會懂\n",
      "label:悲傷語調\n",
      "score:0.84\n"
     ]
    }
   ],
   "source": [
    "from transformers import (\n",
    "    AutoTokenizer,\n",
    "    AutoModelForSequenceClassification,\n",
    "    pipeline,\n",
    ")\n",
    "from pprint import pprint\n",
    "\n",
    "model_dir = './output'\n",
    "model = AutoModelForSequenceClassification.from_pretrained(model_dir)\n",
    "tokenizer = AutoTokenizer.from_pretrained(model_dir)\n",
    "pipe = pipeline(task='text-classification', model=model, tokenizer=tokenizer, device=0)\n",
    "\n",
    "emotion_mapping = {\n",
    "    \"平淡語氣\": 0,\n",
    "    \"關切語調\": 1,\n",
    "    \"開心語調\": 2,\n",
    "    \"憤怒語調\": 3,\n",
    "    \"悲傷語調\": 4,\n",
    "    \"疑問語調\": 5,\n",
    "    \"驚奇語調\": 6,\n",
    "    \"厭惡語調\": 7\n",
    "}\n",
    "\n",
    "list_text = [\n",
    "    \"我每天都能跟她一起上學，我好開心！\",\n",
    "\t\"最好的朋友要離開臺灣了，以後可能不容易再見面...\",\n",
    "\t\"我覺得我快不行了\",\n",
    "\t\"剛剛收到研究所錄取的通知書！\",\n",
    "\t\"今年的冬天好像比較晚來。\",\n",
    "    \"動物園的wifi在長頸鹿頭上\",\n",
    "    \"有人在背後說我胖！幹!\",\n",
    "    \"我的狗終於要讓我養我媽了\",\n",
    "    \"士林夜市東西好多好豐富，可是好難吃\",\n",
    "    \"如果你懂，我也會懂\"\n",
    "]\n",
    "result = pipe(list_text)\n",
    "reverse_emotion_mapping = {v: k for k, v in emotion_mapping.items()}\n",
    "\n",
    "for i in range(10):\n",
    "  print(\"=\"*50)\n",
    "  print(f\"sentence:{list_text[i]}\")\n",
    "  label_number = int(result[i]['label'][-1])\n",
    "  print(f\"label:{reverse_emotion_mapping[label_number]}\")\n",
    "  print(f\"score:{result[i]['score']:.2f}\")"
   ]
  }
 ],
 "metadata": {
  "kernelspec": {
   "display_name": "base",
   "language": "python",
   "name": "python3"
  },
  "language_info": {
   "codemirror_mode": {
    "name": "ipython",
    "version": 3
   },
   "file_extension": ".py",
   "mimetype": "text/x-python",
   "name": "python",
   "nbconvert_exporter": "python",
   "pygments_lexer": "ipython3",
   "version": "3.12.7"
  }
 },
 "nbformat": 4,
 "nbformat_minor": 2
}
