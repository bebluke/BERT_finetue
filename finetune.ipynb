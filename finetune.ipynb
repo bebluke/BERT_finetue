{
 "cells": [
  {
   "cell_type": "markdown",
   "metadata": {},
   "source": [
    "# Step.0 觀看系統設定 & 安裝套件"
   ]
  },
  {
   "cell_type": "code",
   "execution_count": 2,
   "metadata": {
    "id": "4SI-_WjfwUA1"
   },
   "outputs": [
    {
     "name": "stdout",
     "output_type": "stream",
     "text": [
      "Fri Feb 14 10:12:35 2025       \n",
      "+-----------------------------------------------------------------------------------------+\n",
      "| NVIDIA-SMI 560.81                 Driver Version: 560.81         CUDA Version: 12.6     |\n",
      "|-----------------------------------------+------------------------+----------------------+\n",
      "| GPU  Name                  Driver-Model | Bus-Id          Disp.A | Volatile Uncorr. ECC |\n",
      "| Fan  Temp   Perf          Pwr:Usage/Cap |           Memory-Usage | GPU-Util  Compute M. |\n",
      "|                                         |                        |               MIG M. |\n",
      "|=========================================+========================+======================|\n",
      "|   0  NVIDIA GeForce RTX 3060      WDDM  |   00000000:01:00.0 Off |                  N/A |\n",
      "| 40%   28C    P8              9W /  170W |    1424MiB /  12288MiB |      1%      Default |\n",
      "|                                         |                        |                  N/A |\n",
      "+-----------------------------------------+------------------------+----------------------+\n",
      "                                                                                         \n",
      "+-----------------------------------------------------------------------------------------+\n",
      "| Processes:                                                                              |\n",
      "|  GPU   GI   CI        PID   Type   Process name                              GPU Memory |\n",
      "|        ID   ID                                                               Usage      |\n",
      "|=========================================================================================|\n",
      "|    0   N/A  N/A      1464    C+G   C:\\Windows\\System32\\dwm.exe                 N/A      |\n",
      "|    0   N/A  N/A      2072    C+G   ...n\\132.0.2957.140\\msedgewebview2.exe      N/A      |\n",
      "|    0   N/A  N/A      2640    C+G   ...ata\\Local\\LINE\\bin\\current\\LINE.exe      N/A      |\n",
      "|    0   N/A  N/A      2664    C+G   ...)\\TuneBlade\\TuneBlade\\TuneBlade.exe      N/A      |\n",
      "|    0   N/A  N/A      2916    C+G   ...crosoft\\Edge\\Application\\msedge.exe      N/A      |\n",
      "|    0   N/A  N/A      8912    C+G   ...oogle\\Chrome\\Application\\chrome.exe      N/A      |\n",
      "|    0   N/A  N/A      8988    C+G   ...5n1h2txyewy\\ShellExperienceHost.exe      N/A      |\n",
      "|    0   N/A  N/A      9372    C+G   C:\\Windows\\explorer.exe                     N/A      |\n",
      "|    0   N/A  N/A     10844    C+G   ...2txyewy\\StartMenuExperienceHost.exe      N/A      |\n",
      "|    0   N/A  N/A     11628    C+G   ....Search_cw5n1h2txyewy\\SearchApp.exe      N/A      |\n",
      "|    0   N/A  N/A     12020    C+G   ...0_x64__8wekyb3d8bbwe\\Calculator.exe      N/A      |\n",
      "|    0   N/A  N/A     12048    C+G   ....Search_cw5n1h2txyewy\\SearchApp.exe      N/A      |\n",
      "|    0   N/A  N/A     13028    C+G   ...CBS_cw5n1h2txyewy\\TextInputHost.exe      N/A      |\n",
      "|    0   N/A  N/A     19224    C+G   ...oogle\\Chrome\\Application\\chrome.exe      N/A      |\n",
      "+-----------------------------------------------------------------------------------------+\n"
     ]
    }
   ],
   "source": [
    "!nvidia-smi"
   ]
  },
  {
   "cell_type": "code",
   "execution_count": null,
   "metadata": {},
   "outputs": [],
   "source": [
    "# 安裝套件\n",
    "!pip install torch torchvision torchaudio --index-url https://download.pytorch.org/whl/cu126"
   ]
  },
  {
   "cell_type": "code",
   "execution_count": null,
   "metadata": {},
   "outputs": [],
   "source": [
    "!pip install -r requirements.txt"
   ]
  },
  {
   "cell_type": "code",
   "execution_count": 3,
   "metadata": {
    "id": "ROCfoeHI9ak0"
   },
   "outputs": [
    {
     "name": "stdout",
     "output_type": "stream",
     "text": [
      "True\n",
      "0\n",
      "<torch.cuda.device object at 0x000001D1A7381040>\n"
     ]
    }
   ],
   "source": [
    "import torch\n",
    "print(torch.cuda.is_available())\n",
    "print(torch.cuda.current_device())\n",
    "print(torch.cuda.device(0))"
   ]
  },
  {
   "cell_type": "markdown",
   "metadata": {},
   "source": [
    "# Step.1 微調模型"
   ]
  },
  {
   "cell_type": "code",
   "execution_count": 4,
   "metadata": {},
   "outputs": [
    {
     "name": "stdout",
     "output_type": "stream",
     "text": [
      "{'text': ['你要不要去吃午餐？', '誒誒誒！我甄選上了！', '我幾天身體好像有點不太舒服，肚子好痛', '我的小專題組員都不做事，幹!超後悔跟他一組', '他們是不是吵架了？不會打起來吧？'], 'emotion': [0, 2, 4, 3, 0]}\n"
     ]
    }
   ],
   "source": [
    "from datasets import load_dataset\n",
    "\n",
    "data = load_dataset(\"Johnson8187/Chinese_Multi-Emotion_Dialogue_Dataset\")\n",
    "\n",
    "emotion_mapping = {\n",
    "    \"平淡語氣\": 0,\n",
    "    \"關切語調\": 1,\n",
    "    \"開心語調\": 2,\n",
    "    \"憤怒語調\": 3,\n",
    "    \"悲傷語調\": 4,\n",
    "    \"疑問語調\": 5,\n",
    "    \"驚奇語調\": 6,\n",
    "    \"厭惡語調\": 7\n",
    "}\n",
    "\n",
    "data = data.map(lambda x: {\"emotion\": emotion_mapping[x[\"emotion\"]]})\n",
    "print(data[\"train\"][0:5])"
   ]
  },
  {
   "cell_type": "code",
   "execution_count": 5,
   "metadata": {
    "id": "kEVAYBkXxzkH"
   },
   "outputs": [],
   "source": [
    "'''\n",
    "AutoTokenizer：這有助於將我們的文字資料標記為 BERT 可以理解的格式。 「Auto」前綴意味著它可以為各種模型推斷適當的分詞器。\n",
    "AutoModelForSequenceClassification：一個通用的類別，是用於「序列分類」任務的模型架構。「Auto」前綴使其在各種預訓練模型中具有通用性。\n",
    "TrainingArguments：定義訓練配置的設定，例如 learning rateb、batch size 和 epoch。\n",
    "Trainer：用於訓練和評估，使 finetune 變得簡單。\n",
    "pipeline：使用模型的模型。\n",
    "DataCollat​​eWithPadding：確保我們分詞化後的資料，以一致的長度串接在一起，並在必要時增加 padding。這對於訓練的穩定性和效率至關重要。\n",
    "'''\n",
    "from datasets import load_dataset, Dataset, DatasetDict\n",
    "from transformers import (\n",
    "    AutoTokenizer,\n",
    "    AutoModelForSequenceClassification,\n",
    "    TrainingArguments,\n",
    "    Trainer,\n",
    "    DataCollatorWithPadding,\n",
    ")\n",
    "\n",
    "import random\n",
    "from sklearn.metrics import f1_score\n",
    "\n",
    "\n",
    "'''\n",
    "函式\n",
    "'''\n",
    "# 讀取 .txt 文件\n",
    "def load_dataset_from_file(file_path, seed=42):\n",
    "       \n",
    "        random.seed(seed)\n",
    "        random.shuffle(file_path)\n",
    "\n",
    "        # 整合訓練資料\n",
    "        sentences = []\n",
    "        labels = []\n",
    "\n",
    "        # 逐行讀取資料\n",
    "        for text, index in zip(data[\"train\"][\"text\"], data[\"train\"][\"emotion\"]):\n",
    "            sentences.append(text)\n",
    "            labels.append(index)\n",
    "\n",
    "        return sentences, labels\n",
    "    \n",
    "# 轉換成 huggingface trainer 可以使用的 datasets\n",
    "def convert_to_dataset(sentences, labels, tokenizer, max_seq_length):\n",
    "    # 建立 Dataset\n",
    "    dataset = Dataset.from_dict({\n",
    "        'sentences': sentences,\n",
    "        'labels': labels\n",
    "    })\n",
    "\n",
    "    # 回傳切分資料 (訓練 和 驗證)\n",
    "    dataset = dataset.train_test_split(test_size=0.2)\n",
    "\n",
    "    # 預處理資料\n",
    "    def preprocess_data(dataset):\n",
    "        # 將句子轉換為 token (tokenization)\n",
    "        return tokenizer(\n",
    "            dataset['sentences'], \n",
    "            truncation=True, \n",
    "            padding=True, \n",
    "            return_tensors='pt', \n",
    "            max_length=max_seq_length\n",
    "        )\n",
    "\n",
    "    # 轉換資料\n",
    "    train_data = dataset['train'].map(preprocess_data, batched=True)\n",
    "    valid_data = dataset['test'].map(preprocess_data, batched=True)\n",
    "\n",
    "    return DatasetDict({\n",
    "        'train': train_data,\n",
    "        'test': valid_data\n",
    "    })\n",
    "\n",
    "# 計算模型評估指標\n",
    "def compute_metrics(predicted_results):\n",
    "    labels = predicted_results.label_ids\n",
    "    preds = predicted_results.predictions.argmax(-1)\n",
    "\n",
    "    f1 = f1_score(labels, preds, average='macro') # binary, micro, macro, weighted\n",
    "    return {\n",
    "        'f1': f1,\n",
    "    }"
   ]
  },
  {
   "cell_type": "code",
   "execution_count": 6,
   "metadata": {},
   "outputs": [
    {
     "name": "stdout",
     "output_type": "stream",
     "text": [
      "0.5714285714285714\n"
     ]
    }
   ],
   "source": [
    "from sklearn.metrics import f1_score\n",
    "\n",
    "# 驗證 F1 score 算法\n",
    "y_true = [0,0,1,1,1,0,0]\n",
    "y_pred = [0,1,0,1,1,1,0]\n",
    "# y_true = [0,2,1,2,1,0,1]\n",
    "# y_pred = [0,1,0,2,1,1,2]\n",
    "print(f1_score(y_true, y_pred, average='macro')) # binary, micro, macro\n",
    "\n",
    "# 參考: https://blog.csdn.net/qq_40671063/article/details/130447922"
   ]
  },
  {
   "cell_type": "code",
   "execution_count": 7,
   "metadata": {
    "id": "3epMxp60-Y4r"
   },
   "outputs": [
    {
     "data": {
      "application/vnd.jupyter.widget-view+json": {
       "model_id": "44fa1f7213234000bce3f6ad67fc9771",
       "version_major": 2,
       "version_minor": 0
      },
      "text/plain": [
       "Map:   0%|          | 0/3327 [00:00<?, ? examples/s]"
      ]
     },
     "metadata": {},
     "output_type": "display_data"
    },
    {
     "data": {
      "application/vnd.jupyter.widget-view+json": {
       "model_id": "1607f965a3324e77b67a61213d8e014f",
       "version_major": 2,
       "version_minor": 0
      },
      "text/plain": [
       "Map:   0%|          | 0/832 [00:00<?, ? examples/s]"
      ]
     },
     "metadata": {},
     "output_type": "display_data"
    },
    {
     "name": "stderr",
     "output_type": "stream",
     "text": [
      "Some weights of BertForSequenceClassification were not initialized from the model checkpoint at google-bert/bert-base-chinese and are newly initialized: ['classifier.bias', 'classifier.weight']\n",
      "You should probably TRAIN this model on a down-stream task to be able to use it for predictions and inference.\n",
      "\u001b[34m\u001b[1mwandb\u001b[0m: \u001b[33mWARNING\u001b[0m The `run_name` is currently set to the same value as `TrainingArguments.output_dir`. If this was not intended, please specify a different run name by setting the `TrainingArguments.run_name` parameter.\n",
      "wandb: Logging into wandb.ai. (Learn how to deploy a W&B server locally: https://wandb.me/wandb-server)\n",
      "wandb: You can find your API key in your browser here: https://wandb.ai/authorize\n",
      "wandb: Paste an API key from your profile and hit enter:wandb: WARNING If you're specifying your api key in code, ensure this code is not shared publicly.\n",
      "wandb: WARNING Consider setting the WANDB_API_KEY environment variable, or running `wandb login` from the command line.\n",
      "wandb: Appending key for api.wandb.ai to your netrc file: C:\\Users\\Administrator\\_netrc\n",
      "wandb: Currently logged in as: beb-luke (beb-luke-none) to https://api.wandb.ai. Use `wandb login --relogin` to force relogin\n",
      "wandb: Using wandb-core as the SDK backend.  Please refer to https://wandb.me/wandb-core for more information.\n"
     ]
    },
    {
     "data": {
      "text/html": [
       "Tracking run with wandb version 0.19.6"
      ],
      "text/plain": [
       "<IPython.core.display.HTML object>"
      ]
     },
     "metadata": {},
     "output_type": "display_data"
    },
    {
     "data": {
      "text/html": [
       "Run data is saved locally in <code>c:\\Users\\Administrator\\Downloads\\python_nlp-master\\cases\\bert_finetune\\BERT_finetune\\wandb\\run-20250214_101304-vgmglmdq</code>"
      ],
      "text/plain": [
       "<IPython.core.display.HTML object>"
      ]
     },
     "metadata": {},
     "output_type": "display_data"
    },
    {
     "data": {
      "text/html": [
       "Syncing run <strong><a href='https://wandb.ai/beb-luke-none/huggingface/runs/vgmglmdq' target=\"_blank\">./output</a></strong> to <a href='https://wandb.ai/beb-luke-none/huggingface' target=\"_blank\">Weights & Biases</a> (<a href='https://wandb.me/developer-guide' target=\"_blank\">docs</a>)<br>"
      ],
      "text/plain": [
       "<IPython.core.display.HTML object>"
      ]
     },
     "metadata": {},
     "output_type": "display_data"
    },
    {
     "data": {
      "text/html": [
       " View project at <a href='https://wandb.ai/beb-luke-none/huggingface' target=\"_blank\">https://wandb.ai/beb-luke-none/huggingface</a>"
      ],
      "text/plain": [
       "<IPython.core.display.HTML object>"
      ]
     },
     "metadata": {},
     "output_type": "display_data"
    },
    {
     "data": {
      "text/html": [
       " View run at <a href='https://wandb.ai/beb-luke-none/huggingface/runs/vgmglmdq' target=\"_blank\">https://wandb.ai/beb-luke-none/huggingface/runs/vgmglmdq</a>"
      ],
      "text/plain": [
       "<IPython.core.display.HTML object>"
      ]
     },
     "metadata": {},
     "output_type": "display_data"
    },
    {
     "data": {
      "text/html": [
       "\n",
       "    <div>\n",
       "      \n",
       "      <progress value='156' max='156' style='width:300px; height:20px; vertical-align: middle;'></progress>\n",
       "      [156/156 01:33, Epoch 3/3]\n",
       "    </div>\n",
       "    <table border=\"1\" class=\"dataframe\">\n",
       "  <thead>\n",
       " <tr style=\"text-align: left;\">\n",
       "      <th>Step</th>\n",
       "      <th>Training Loss</th>\n",
       "      <th>Validation Loss</th>\n",
       "      <th>F1</th>\n",
       "    </tr>\n",
       "  </thead>\n",
       "  <tbody>\n",
       "    <tr>\n",
       "      <td>50</td>\n",
       "      <td>No log</td>\n",
       "      <td>1.441485</td>\n",
       "      <td>0.483100</td>\n",
       "    </tr>\n",
       "    <tr>\n",
       "      <td>100</td>\n",
       "      <td>No log</td>\n",
       "      <td>0.566326</td>\n",
       "      <td>0.815271</td>\n",
       "    </tr>\n",
       "    <tr>\n",
       "      <td>150</td>\n",
       "      <td>No log</td>\n",
       "      <td>0.385446</td>\n",
       "      <td>0.886334</td>\n",
       "    </tr>\n",
       "  </tbody>\n",
       "</table><p>"
      ],
      "text/plain": [
       "<IPython.core.display.HTML object>"
      ]
     },
     "metadata": {},
     "output_type": "display_data"
    }
   ],
   "source": [
    "# 主程式 - 微調模型\n",
    "if __name__ == \"__main__\":\n",
    "    '''\n",
    "    設定 hyperparameters\n",
    "    '''\n",
    "    model_name = 'google-bert/bert-base-chinese' # 預訓練模型名稱\n",
    "    max_seq_length = 512 # 可訓練的序列最大長度\n",
    "    num_labels = 8 \n",
    "    output_dir = './output' # 輸出模型資料夾\n",
    "\n",
    "    # 讀取訓練資料\n",
    "    sentences, labels = load_dataset_from_file(data)\n",
    "\n",
    "    # 載入 tokenizer\n",
    "    tokenizer = AutoTokenizer.from_pretrained(model_name)\n",
    "\n",
    "    # 將資料轉換為 huggingface 可以使用的格式\n",
    "    dataset = convert_to_dataset(\n",
    "        sentences, \n",
    "        labels, \n",
    "        tokenizer, \n",
    "        max_seq_length\n",
    "    )\n",
    "\n",
    "    # 讀取模型\n",
    "    model = AutoModelForSequenceClassification.from_pretrained(\n",
    "        model_name, \n",
    "        num_labels=num_labels\n",
    "    )\n",
    "\n",
    "    # 設定訓練參數\n",
    "    training_args = TrainingArguments(\n",
    "        output_dir='./output', # 輸出資料夾\n",
    "        overwrite_output_dir=True,\n",
    "        num_train_epochs=3, # 訓練回合數\n",
    "        per_device_train_batch_size=32, # 批次大小\n",
    "        per_device_eval_batch_size=32, # 批次大小\n",
    "        gradient_accumulation_steps=2,\n",
    "        learning_rate=0.00003, \n",
    "        warmup_steps=100,\n",
    "        weight_decay=0.01,\n",
    "        eval_strategy=\"steps\", # epoch, steps, no\n",
    "        eval_steps=50,\n",
    "        save_strategy=\"steps\", # epoch, steps, no\n",
    "        save_steps=50,\n",
    "        save_total_limit=2,\n",
    "        load_best_model_at_end=True,\n",
    "        seed=42, # 隨機種子\n",
    "        # lr_scheduler_type=\"linear\", # https://blog.csdn.net/muyao987/article/details/139319466\n",
    "        report_to='wandb', # https://wandb.ai/\n",
    "    )\n",
    "\n",
    "    # 設定 Trainer\n",
    "    trainer = Trainer(\n",
    "        model=model,\n",
    "        args=training_args,\n",
    "        train_dataset=dataset['train'],\n",
    "        eval_dataset=dataset['test'],\n",
    "        data_collator=DataCollatorWithPadding(tokenizer),\n",
    "        compute_metrics=compute_metrics,\n",
    "    )\n",
    "\n",
    "    # 開始訓練\n",
    "    trainer.train()\n",
    "\n",
    "    # 儲存模型\n",
    "    trainer.save_model(output_dir) # , safe_serialization=True\n",
    "\n",
    "    # 儲存 tokenizer\n",
    "    tokenizer.save_pretrained(output_dir)"
   ]
  },
  {
   "cell_type": "markdown",
   "metadata": {},
   "source": [
    "# 測試微調好的模型"
   ]
  },
  {
   "cell_type": "code",
   "execution_count": 8,
   "metadata": {},
   "outputs": [
    {
     "name": "stderr",
     "output_type": "stream",
     "text": [
      "Device set to use cuda:0\n"
     ]
    },
    {
     "name": "stdout",
     "output_type": "stream",
     "text": [
      "[{'label': 'LABEL_2', 'score': 0.9509220123291016},\n",
      " {'label': 'LABEL_4', 'score': 0.8111037611961365},\n",
      " {'label': 'LABEL_4', 'score': 0.9247133135795593},\n",
      " {'label': 'LABEL_2', 'score': 0.9240601658821106},\n",
      " {'label': 'LABEL_0', 'score': 0.9358413815498352},\n",
      " {'label': 'LABEL_0', 'score': 0.9036383628845215}]\n"
     ]
    }
   ],
   "source": [
    "from transformers import (\n",
    "    AutoTokenizer,\n",
    "    AutoModelForSequenceClassification,\n",
    "    pipeline,\n",
    ")\n",
    "from pprint import pprint\n",
    "\n",
    "model_dir = './output'\n",
    "model = AutoModelForSequenceClassification.from_pretrained(model_dir)\n",
    "tokenizer = AutoTokenizer.from_pretrained(model_dir)\n",
    "pipe = pipeline(task='text-classification', model=model, tokenizer=tokenizer, device=0)\n",
    "\n",
    "list_text = [\n",
    "  \"我每天都能跟她一起上學，我好開心！\",\n",
    "\t\"最好的朋友要離開臺灣了，以後可能不容易再見面...\",\n",
    "\t\"我覺得我快不行了\",\n",
    "\t\"剛剛收到研究所錄取的通知書！\",\n",
    "\t\"今年的冬天好像比較晚來。\",\n",
    "  \"動物園的wifi在長頸鹿頭上\"  \n",
    "]\n",
    "result = pipe(list_text)\n",
    "pprint(result)"
   ]
  }
 ],
 "metadata": {
  "accelerator": "GPU",
  "colab": {
   "authorship_tag": "ABX9TyMKWLyaNDZnqlM6q3MHE3gZ",
   "gpuType": "T4",
   "provenance": []
  },
  "kernelspec": {
   "display_name": "base",
   "language": "python",
   "name": "python3"
  },
  "language_info": {
   "codemirror_mode": {
    "name": "ipython",
    "version": 3
   },
   "file_extension": ".py",
   "mimetype": "text/x-python",
   "name": "python",
   "nbconvert_exporter": "python",
   "pygments_lexer": "ipython3",
   "version": "3.12.7"
  }
 },
 "nbformat": 4,
 "nbformat_minor": 0
}
